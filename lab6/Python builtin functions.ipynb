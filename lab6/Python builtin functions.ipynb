{
 "cells": [
  {
   "cell_type": "code",
   "execution_count": 2,
   "id": "b8219855",
   "metadata": {},
   "outputs": [
    {
     "name": "stdout",
     "output_type": "stream",
     "text": [
      "Enter numbers separated by spaces: 2 3 4 5\n",
      "Product of numbers: 120\n"
     ]
    }
   ],
   "source": [
    "#Python program with builtin function to multiply all the numbers in a list\n",
    "import math  \n",
    "\n",
    "def multiply_list(numbers):\n",
    "    return math.prod(numbers)\n",
    "\n",
    "\n",
    "num_list = list(map(int, input(\"Enter numbers separated by spaces: \").split()))\n",
    "\n",
    "print(\"Product of numbers:\", multiply_list(num_list))\n"
   ]
  },
  {
   "cell_type": "code",
   "execution_count": 2,
   "id": "1d8128c4",
   "metadata": {},
   "outputs": [
    {
     "name": "stdout",
     "output_type": "stream",
     "text": [
      "Enter a string: Hello, Python!\n",
      "Uppercase letters: 2, Lowercase letters: 9\n"
     ]
    }
   ],
   "source": [
    "def count_case(s):\n",
    "    upper_count = sum(1 for char in s if char.isupper())\n",
    "    lower_count = sum(1 for char in s if char.islower())\n",
    "    return upper_count, lower_count\n",
    "\n",
    "text = input(\"Enter a string: \")\n",
    "\n",
    "upper, lower = count_case(text)\n",
    "print(f\"Uppercase letters: {upper}, Lowercase letters: {lower}\")\n"
   ]
  },
  {
   "cell_type": "code",
   "execution_count": 6,
   "id": "6ce2bb43",
   "metadata": {},
   "outputs": [
    {
     "name": "stdout",
     "output_type": "stream",
     "text": [
      "Enter a string: noon\n",
      "Is palindrome: True\n"
     ]
    }
   ],
   "source": [
    "def is_palindrome(s):\n",
    "    return s == s[::-1] \n",
    "\n",
    "text = input(\"Enter a string: \")\n",
    "\n",
    "print(\"Is palindrome:\", is_palindrome(text))\n"
   ]
  },
  {
   "cell_type": "code",
   "execution_count": 7,
   "id": "81d2d703",
   "metadata": {},
   "outputs": [
    {
     "name": "stdout",
     "output_type": "stream",
     "text": [
      "25100\n",
      "2123\n",
      "Square root of 25100 after 2123 milliseconds is 158.42979517754858\n"
     ]
    }
   ],
   "source": [
    "#Write a Python program that invoke square root function after specific milliseconds\n",
    "import time\n",
    "from math import sqrt\n",
    "\n",
    "number = int(input())\n",
    "milliseconds = int(input())\n",
    "\n",
    "time.sleep(milliseconds / 1000)\n",
    "result = sqrt(number)\n",
    "print(f\"Square root of {number} after {milliseconds} milliseconds is {result}\")"
   ]
  },
  {
   "cell_type": "code",
   "execution_count": 1,
   "id": "76eb54a3",
   "metadata": {},
   "outputs": [
    {
     "name": "stdout",
     "output_type": "stream",
     "text": [
      "tuple values separated by spaces (0 for False, 1 for True): 1 1 1\n",
      "All elements are True: True\n"
     ]
    }
   ],
   "source": [
    "tuple_values = tuple(map(int, input(\"tuple values separated by spaces (0 for False, 1 for True): \").split()))\n",
    "\n",
    "print(\"All elements are True:\", all(tuple_values))\n"
   ]
  }
 ],
 "metadata": {
  "kernelspec": {
   "display_name": "Python 3 (ipykernel)",
   "language": "python",
   "name": "python3"
  },
  "language_info": {
   "codemirror_mode": {
    "name": "ipython",
    "version": 3
   },
   "file_extension": ".py",
   "mimetype": "text/x-python",
   "name": "python",
   "nbconvert_exporter": "python",
   "pygments_lexer": "ipython3",
   "version": "3.11.5"
  }
 },
 "nbformat": 4,
 "nbformat_minor": 5
}
