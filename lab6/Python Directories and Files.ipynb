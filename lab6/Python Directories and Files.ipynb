{
 "cells": [
  {
   "cell_type": "code",
   "execution_count": 3,
   "id": "02c3f5aa",
   "metadata": {},
   "outputs": [
    {
     "name": "stdout",
     "output_type": "stream",
     "text": [
      "File 'example.txt' has been created!\n"
     ]
    }
   ],
   "source": [
    "with open(\"example.txt\", \"w\") as file:\n",
    "    file.write(\"Hello, this is a test file.\\nThis is the second line.\\n\")\n",
    "\n",
    "print(\"File 'example.txt' has been created!\")\n"
   ]
  },
  {
   "cell_type": "code",
   "execution_count": 5,
   "id": "194c1955",
   "metadata": {},
   "outputs": [
    {
     "name": "stdout",
     "output_type": "stream",
     "text": [
      "Directories: ['.ipynb_checkpoints']\n",
      "Files: ['example.txt', 'Python builtin functions.ipynb', 'Python Directories and Files.ipynb']\n",
      "All Items: ['.ipynb_checkpoints', 'example.txt', 'Python builtin functions.ipynb', 'Python Directories and Files.ipynb']\n"
     ]
    }
   ],
   "source": [
    "import os\n",
    "\n",
    "path = \".\"\n",
    "\n",
    "all_items = os.listdir(path)\n",
    "\n",
    "directories = [d for d in all_items if os.path.isdir(os.path.join(path, d))]\n",
    "\n",
    "files = [f for f in all_items if os.path.isfile(os.path.join(path, f))]\n",
    "\n",
    "print(\"Directories:\", directories)\n",
    "print(\"Files:\", files)\n",
    "print(\"All Items:\", all_items)\n"
   ]
  },
  {
   "cell_type": "code",
   "execution_count": 6,
   "id": "57b41b52",
   "metadata": {},
   "outputs": [
    {
     "name": "stdout",
     "output_type": "stream",
     "text": [
      "Path exists: True\n",
      "Readable: True\n",
      "Writable: True\n",
      "Executable: True\n"
     ]
    }
   ],
   "source": [
    "file_path = \"example.txt\"\n",
    "\n",
    "print(\"Path exists:\", os.access(file_path, os.F_OK))\n",
    "print(\"Readable:\", os.access(file_path, os.R_OK))\n",
    "print(\"Writable:\", os.access(file_path, os.W_OK))\n",
    "print(\"Executable:\", os.access(file_path, os.X_OK))\n"
   ]
  },
  {
   "cell_type": "code",
   "execution_count": 7,
   "id": "ce8a26a4",
   "metadata": {},
   "outputs": [
    {
     "name": "stdout",
     "output_type": "stream",
     "text": [
      "Path exists!\n",
      "Directory: C:\\Users\\t_razuan\\Desktop\\lab6\n",
      "Filename: example.txt\n"
     ]
    }
   ],
   "source": [
    "if os.path.exists(file_path):\n",
    "    print(\"Path exists!\")\n",
    "    print(\"Directory:\", os.path.dirname(os.path.abspath(file_path)))  \n",
    "    print(\"Filename:\", os.path.basename(file_path))  \n",
    "else:\n",
    "    print(\"Path does not exist.\")\n"
   ]
  },
  {
   "cell_type": "code",
   "execution_count": 9,
   "id": "f3feee1c",
   "metadata": {},
   "outputs": [
    {
     "name": "stdout",
     "output_type": "stream",
     "text": [
      "Number of lines: 2\n"
     ]
    }
   ],
   "source": [
    "with open(file_path, 'r', encoding='utf-8') as file:\n",
    "    lines = file.readlines()\n",
    "    print(\"Number of lines:\", len(lines))\n"
   ]
  },
  {
   "cell_type": "code",
   "execution_count": 10,
   "id": "ecff21cd",
   "metadata": {},
   "outputs": [
    {
     "name": "stdout",
     "output_type": "stream",
     "text": [
      "List has been written to example.txt\n"
     ]
    }
   ],
   "source": [
    "items = [\"Notebook\\n\", \"Book\\n\", \"Pen\\n\"]\n",
    "\n",
    "with open(file_path, 'a', encoding='utf-8') as file:\n",
    "    file.writelines(items)\n",
    "\n",
    "print(\"List has been written to\", file_path)\n"
   ]
  },
  {
   "cell_type": "code",
   "execution_count": 11,
   "id": "e4c38685",
   "metadata": {},
   "outputs": [
    {
     "name": "stdout",
     "output_type": "stream",
     "text": [
      "Created: A.txt\n",
      "Created: B.txt\n",
      "Created: C.txt\n",
      "Created: D.txt\n",
      "Created: E.txt\n",
      "Created: F.txt\n",
      "Created: G.txt\n",
      "Created: H.txt\n",
      "Created: I.txt\n",
      "Created: J.txt\n",
      "Created: K.txt\n",
      "Created: L.txt\n",
      "Created: M.txt\n",
      "Created: N.txt\n",
      "Created: O.txt\n",
      "Created: P.txt\n",
      "Created: Q.txt\n",
      "Created: R.txt\n",
      "Created: S.txt\n",
      "Created: T.txt\n",
      "Created: U.txt\n",
      "Created: V.txt\n",
      "Created: W.txt\n",
      "Created: X.txt\n",
      "Created: Y.txt\n",
      "Created: Z.txt\n"
     ]
    }
   ],
   "source": [
    "import string\n",
    "\n",
    "for letter in string.ascii_uppercase:\n",
    "    filename = f\"{letter}.txt\"\n",
    "    with open(filename, 'w') as file:\n",
    "        file.write(f\"This is {filename}\\n\")\n",
    "    print(f\"Created: {filename}\")\n"
   ]
  },
  {
   "cell_type": "code",
   "execution_count": 12,
   "id": "23c3540a",
   "metadata": {},
   "outputs": [
    {
     "name": "stdout",
     "output_type": "stream",
     "text": [
      "Copied content from example.txt to copy_example.txt\n"
     ]
    }
   ],
   "source": [
    "import shutil\n",
    "\n",
    "\n",
    "destination = \"copy_example.txt\"\n",
    "\n",
    "shutil.copyfile(file_path, destination)\n",
    "\n",
    "print(f\"Copied content from {file_path} to {destination}\")\n"
   ]
  },
  {
   "cell_type": "code",
   "execution_count": 13,
   "id": "c9f6848b",
   "metadata": {},
   "outputs": [
    {
     "name": "stdout",
     "output_type": "stream",
     "text": [
      "File deleted: example.txt\n"
     ]
    }
   ],
   "source": [
    "if os.path.exists(file_path):\n",
    "    if os.access(file_path, os.W_OK):  \n",
    "        os.remove(file_path)\n",
    "        print(\"File deleted:\", file_path)\n",
    "    else:\n",
    "        print(\"No permission to delete the file.\")\n",
    "else:\n",
    "    print(\"File does not exist.\")\n"
   ]
  }
 ],
 "metadata": {
  "kernelspec": {
   "display_name": "Python 3 (ipykernel)",
   "language": "python",
   "name": "python3"
  },
  "language_info": {
   "codemirror_mode": {
    "name": "ipython",
    "version": 3
   },
   "file_extension": ".py",
   "mimetype": "text/x-python",
   "name": "python",
   "nbconvert_exporter": "python",
   "pygments_lexer": "ipython3",
   "version": "3.11.5"
  }
 },
 "nbformat": 4,
 "nbformat_minor": 5
}
